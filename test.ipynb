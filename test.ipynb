{
 "cells": [
  {
   "cell_type": "code",
   "execution_count": 1,
   "id": "926190fa",
   "metadata": {},
   "outputs": [],
   "source": [
    "import pandas as pd\n",
    "# Show all columns when printing DataFrames\n",
    "pd.set_option('display.max_columns', None)\n",
    "# Prevent column content from being truncated\n",
    "pd.set_option('display.max_colwidth', None)\n",
    "# Avoid expanded/wrapped repr for wide DataFrames (keeps them on one line where possible)\n",
    "pd.set_option('display.expand_frame_repr', False)"
   ]
  },
  {
   "cell_type": "code",
   "execution_count": null,
   "id": "4e817132",
   "metadata": {},
   "outputs": [],
   "source": [
    "# I will do some data importing and transformation here\n",
    "\n",
    "# Example DataFrame (replace with your actual data)\n",
    "df = pd.DataFrame({\n",
    "    'col1': [1, 2, 3],\n",
    "    'col2': ['a', 'b', 'c']\n",
    "})\n",
    "\n",
    "import awswrangler as wr\n",
    "# Here I will store it into s3 in parquet format using AWS Data Wrangler\n",
    "wr.s3.to_parquet(\n",
    "    df=df,\n",
    "    path='s3://your-bucket-name/your-folder/your-file.parquet'\n",
    "#    dataset=True, # optional: for partitioned dataset format\n",
    "#    mode='overwrite' # optional: to overwrite existing file\n",
    ")"
   ]
  }
 ],
 "metadata": {
  "kernelspec": {
   "display_name": ".venv",
   "language": "python",
   "name": "python3"
  },
  "language_info": {
   "codemirror_mode": {
    "name": "ipython",
    "version": 3
   },
   "file_extension": ".py",
   "mimetype": "text/x-python",
   "name": "python",
   "nbconvert_exporter": "python",
   "pygments_lexer": "ipython3",
   "version": "3.13.5"
  }
 },
 "nbformat": 4,
 "nbformat_minor": 5
}
